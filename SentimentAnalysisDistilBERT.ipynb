{
  "cells": [
    {
      "cell_type": "markdown",
      "metadata": {
        "id": "S3cMITY1ZscF"
      },
      "source": [
        "# Setting up the Environment\n",
        "\n",
        "Make sure to set your runtime to use the GPU.\n",
        "\n",
        "Runtime -> Change runtime type -> Hardware accelerator -> T4 GPU -> Save"
      ]
    },
    {
      "cell_type": "code",
      "execution_count": null,
      "metadata": {
        "collapsed": true,
        "id": "Vi4Dd9FIo17J"
      },
      "outputs": [],
      "source": [
        "!pip install transformers\n",
        "!pip install datasets"
      ]
    },
    {
      "cell_type": "code",
      "execution_count": null,
      "metadata": {
        "id": "6xF-ouAlpZsb"
      },
      "outputs": [],
      "source": [
        "from datasets import Dataset, DatasetDict\n",
        "import transformers\n",
        "from transformers import AutoTokenizer, AutoModelForSequenceClassification, Trainer, TrainingArguments, pipeline\n",
        "import numpy as np\n",
        "import matplotlib.pyplot as plt\n",
        "import torch\n",
        "from sklearn.metrics import accuracy_score, precision_recall_fscore_support\n",
        "import os\n",
        "from google.colab import files\n",
        "import json\n",
        "\n",
        "os.environ[\"WANDB_DISABLED\"] = \"true\""
      ]
    },
    {
      "cell_type": "markdown",
      "metadata": {
        "id": "hufvx5WOqG21"
      },
      "source": [
        "# Importing and Creating Data\n",
        "\n",
        "Here we upload a kaggle dataset of approximately 4000-5000 amazon dog food reviews. We then append to this dataset a list of 300 ChatGPT generated reviews to have a larger variety in size of reviews. This is because many of the amazon dog food reviews are hundreds of words, and we wanted this model to be good at classifying the sentiment of short reviews too."
      ]
    },
    {
      "cell_type": "code",
      "execution_count": null,
      "metadata": {
        "colab": {
          "base_uri": "https://localhost:8080/",
          "height": 74
        },
        "id": "B2atS9sklRQg",
        "outputId": "72ba865d-4611-4f8f-d8b3-3693b714a9a8"
      },
      "outputs": [
        {
          "output_type": "display_data",
          "data": {
            "text/plain": [
              "<IPython.core.display.HTML object>"
            ],
            "text/html": [
              "\n",
              "     <input type=\"file\" id=\"files-6a8a32d1-e3c3-4265-8b46-8b4a42f3cff8\" name=\"files[]\" multiple disabled\n",
              "        style=\"border:none\" />\n",
              "     <output id=\"result-6a8a32d1-e3c3-4265-8b46-8b4a42f3cff8\">\n",
              "      Upload widget is only available when the cell has been executed in the\n",
              "      current browser session. Please rerun this cell to enable.\n",
              "      </output>\n",
              "      <script>// Copyright 2017 Google LLC\n",
              "//\n",
              "// Licensed under the Apache License, Version 2.0 (the \"License\");\n",
              "// you may not use this file except in compliance with the License.\n",
              "// You may obtain a copy of the License at\n",
              "//\n",
              "//      http://www.apache.org/licenses/LICENSE-2.0\n",
              "//\n",
              "// Unless required by applicable law or agreed to in writing, software\n",
              "// distributed under the License is distributed on an \"AS IS\" BASIS,\n",
              "// WITHOUT WARRANTIES OR CONDITIONS OF ANY KIND, either express or implied.\n",
              "// See the License for the specific language governing permissions and\n",
              "// limitations under the License.\n",
              "\n",
              "/**\n",
              " * @fileoverview Helpers for google.colab Python module.\n",
              " */\n",
              "(function(scope) {\n",
              "function span(text, styleAttributes = {}) {\n",
              "  const element = document.createElement('span');\n",
              "  element.textContent = text;\n",
              "  for (const key of Object.keys(styleAttributes)) {\n",
              "    element.style[key] = styleAttributes[key];\n",
              "  }\n",
              "  return element;\n",
              "}\n",
              "\n",
              "// Max number of bytes which will be uploaded at a time.\n",
              "const MAX_PAYLOAD_SIZE = 100 * 1024;\n",
              "\n",
              "function _uploadFiles(inputId, outputId) {\n",
              "  const steps = uploadFilesStep(inputId, outputId);\n",
              "  const outputElement = document.getElementById(outputId);\n",
              "  // Cache steps on the outputElement to make it available for the next call\n",
              "  // to uploadFilesContinue from Python.\n",
              "  outputElement.steps = steps;\n",
              "\n",
              "  return _uploadFilesContinue(outputId);\n",
              "}\n",
              "\n",
              "// This is roughly an async generator (not supported in the browser yet),\n",
              "// where there are multiple asynchronous steps and the Python side is going\n",
              "// to poll for completion of each step.\n",
              "// This uses a Promise to block the python side on completion of each step,\n",
              "// then passes the result of the previous step as the input to the next step.\n",
              "function _uploadFilesContinue(outputId) {\n",
              "  const outputElement = document.getElementById(outputId);\n",
              "  const steps = outputElement.steps;\n",
              "\n",
              "  const next = steps.next(outputElement.lastPromiseValue);\n",
              "  return Promise.resolve(next.value.promise).then((value) => {\n",
              "    // Cache the last promise value to make it available to the next\n",
              "    // step of the generator.\n",
              "    outputElement.lastPromiseValue = value;\n",
              "    return next.value.response;\n",
              "  });\n",
              "}\n",
              "\n",
              "/**\n",
              " * Generator function which is called between each async step of the upload\n",
              " * process.\n",
              " * @param {string} inputId Element ID of the input file picker element.\n",
              " * @param {string} outputId Element ID of the output display.\n",
              " * @return {!Iterable<!Object>} Iterable of next steps.\n",
              " */\n",
              "function* uploadFilesStep(inputId, outputId) {\n",
              "  const inputElement = document.getElementById(inputId);\n",
              "  inputElement.disabled = false;\n",
              "\n",
              "  const outputElement = document.getElementById(outputId);\n",
              "  outputElement.innerHTML = '';\n",
              "\n",
              "  const pickedPromise = new Promise((resolve) => {\n",
              "    inputElement.addEventListener('change', (e) => {\n",
              "      resolve(e.target.files);\n",
              "    });\n",
              "  });\n",
              "\n",
              "  const cancel = document.createElement('button');\n",
              "  inputElement.parentElement.appendChild(cancel);\n",
              "  cancel.textContent = 'Cancel upload';\n",
              "  const cancelPromise = new Promise((resolve) => {\n",
              "    cancel.onclick = () => {\n",
              "      resolve(null);\n",
              "    };\n",
              "  });\n",
              "\n",
              "  // Wait for the user to pick the files.\n",
              "  const files = yield {\n",
              "    promise: Promise.race([pickedPromise, cancelPromise]),\n",
              "    response: {\n",
              "      action: 'starting',\n",
              "    }\n",
              "  };\n",
              "\n",
              "  cancel.remove();\n",
              "\n",
              "  // Disable the input element since further picks are not allowed.\n",
              "  inputElement.disabled = true;\n",
              "\n",
              "  if (!files) {\n",
              "    return {\n",
              "      response: {\n",
              "        action: 'complete',\n",
              "      }\n",
              "    };\n",
              "  }\n",
              "\n",
              "  for (const file of files) {\n",
              "    const li = document.createElement('li');\n",
              "    li.append(span(file.name, {fontWeight: 'bold'}));\n",
              "    li.append(span(\n",
              "        `(${file.type || 'n/a'}) - ${file.size} bytes, ` +\n",
              "        `last modified: ${\n",
              "            file.lastModifiedDate ? file.lastModifiedDate.toLocaleDateString() :\n",
              "                                    'n/a'} - `));\n",
              "    const percent = span('0% done');\n",
              "    li.appendChild(percent);\n",
              "\n",
              "    outputElement.appendChild(li);\n",
              "\n",
              "    const fileDataPromise = new Promise((resolve) => {\n",
              "      const reader = new FileReader();\n",
              "      reader.onload = (e) => {\n",
              "        resolve(e.target.result);\n",
              "      };\n",
              "      reader.readAsArrayBuffer(file);\n",
              "    });\n",
              "    // Wait for the data to be ready.\n",
              "    let fileData = yield {\n",
              "      promise: fileDataPromise,\n",
              "      response: {\n",
              "        action: 'continue',\n",
              "      }\n",
              "    };\n",
              "\n",
              "    // Use a chunked sending to avoid message size limits. See b/62115660.\n",
              "    let position = 0;\n",
              "    do {\n",
              "      const length = Math.min(fileData.byteLength - position, MAX_PAYLOAD_SIZE);\n",
              "      const chunk = new Uint8Array(fileData, position, length);\n",
              "      position += length;\n",
              "\n",
              "      const base64 = btoa(String.fromCharCode.apply(null, chunk));\n",
              "      yield {\n",
              "        response: {\n",
              "          action: 'append',\n",
              "          file: file.name,\n",
              "          data: base64,\n",
              "        },\n",
              "      };\n",
              "\n",
              "      let percentDone = fileData.byteLength === 0 ?\n",
              "          100 :\n",
              "          Math.round((position / fileData.byteLength) * 100);\n",
              "      percent.textContent = `${percentDone}% done`;\n",
              "\n",
              "    } while (position < fileData.byteLength);\n",
              "  }\n",
              "\n",
              "  // All done.\n",
              "  yield {\n",
              "    response: {\n",
              "      action: 'complete',\n",
              "    }\n",
              "  };\n",
              "}\n",
              "\n",
              "scope.google = scope.google || {};\n",
              "scope.google.colab = scope.google.colab || {};\n",
              "scope.google.colab._files = {\n",
              "  _uploadFiles,\n",
              "  _uploadFilesContinue,\n",
              "};\n",
              "})(self);\n",
              "</script> "
            ]
          },
          "metadata": {}
        },
        {
          "output_type": "stream",
          "name": "stdout",
          "text": [
            "Saving sample-dog-food.json to sample-dog-food.json\n"
          ]
        }
      ],
      "source": [
        "uploaded = files.upload()"
      ]
    },
    {
      "cell_type": "code",
      "execution_count": null,
      "metadata": {
        "colab": {
          "base_uri": "https://localhost:8080/"
        },
        "id": "EfLpWmaFqFeU",
        "outputId": "bba0704a-d2d7-4cd4-a0a6-f017316da6cb"
      },
      "outputs": [
        {
          "output_type": "stream",
          "name": "stdout",
          "text": [
            "Amount of Data: 4719\n"
          ]
        }
      ],
      "source": [
        "# Load JSON data\n",
        "with open('sample-dog-food.json', 'r') as f:\n",
        "    data_json = json.load(f)\n",
        "\n",
        "# Extract and label reviews\n",
        "reviews = data_json[\"reviews\"]\n",
        "dog_food_reviews1 = []\n",
        "\n",
        "for review in reviews:\n",
        "    rating = review[\"rating\"]\n",
        "    text = review[\"review_text\"]\n",
        "    if rating in [4, 5]:\n",
        "        label = 1  # Positive\n",
        "        dog_food_reviews1.append((text, label))\n",
        "    elif rating in [1, 2]:\n",
        "        label = 0  # Negative\n",
        "        dog_food_reviews1.append((text, label))\n",
        "    # 3-star reviews are ignored\n",
        "\n",
        "#ChatGPT Generated Reviews:\n",
        "dog_food_reviews2 = [\n",
        "    # Cluster 1: Smell is appealing\n",
        "    (\"This dog food smells amazing—almost like a chicken stew.\", 1),\n",
        "    (\"It has a delicious smell that even I find pleasant.\", 1),\n",
        "    (\"The aroma is rich and savory—my dog comes running.\", 1),\n",
        "    (\"Way better-smelling than other brands I’ve tried.\", 1),\n",
        "    (\"It actually smells like real chicken and rice.\", 1),\n",
        "    (\"The pleasant aroma fills the whole kitchen.\", 1),\n",
        "    (\"I love how fresh and wholesome it smells.\", 1),\n",
        "    (\"The smell alone made me confident it was good quality.\", 1),\n",
        "    (\"Smells better than some canned human soups!\", 1),\n",
        "    (\"Even picky dogs react instantly to the smell.\", 1),\n",
        "    (\"The scent is fresh, not fake like some brands.\", 1),\n",
        "    (\"Very appetizing smell, my dog gets excited.\", 1),\n",
        "    (\"Rich meaty aroma without being overpowering.\", 1),\n",
        "    (\"I almost thought it was human food because of the smell.\", 1),\n",
        "    (\"Pleasant smell compared to old kibble brands.\", 1),\n",
        "    (\"Smells clean, natural, and wholesome.\", 1),\n",
        "    (\"My neighbor's dog also goes crazy smelling it.\", 1),\n",
        "    (\"Freshness can be smelled right out of the bag.\", 1),\n",
        "    (\"It smelled better than my own dinner.\", 1),\n",
        "    (\"Scent didn't smell chemical-like like other brands.\", 1),\n",
        "\n",
        "    # Cluster 2: Dogs eagerly eat it\n",
        "    (\"My dog devours it in seconds.\", 1),\n",
        "    (\"She licks the bowl clean every single time.\", 1),\n",
        "    (\"My picky poodle actually begs for more now.\", 1),\n",
        "    (\"Even my older dog with little appetite finishes it.\", 1),\n",
        "    (\"My puppy refuses any other food now.\", 1),\n",
        "    (\"They love it so much, we had to hide the bag.\", 1),\n",
        "    (\"My dogs dance around every feeding time now.\", 1),\n",
        "    (\"No more coaxing or tricking them to eat.\", 1),\n",
        "    (\"It’s like a treat to them, not just food.\", 1),\n",
        "    (\"Absolutely no leftovers—ever!\", 1),\n",
        "    (\"My senior dog wolfs it down happily.\", 1),\n",
        "    (\"Even my anxious rescue dog eats it with gusto.\", 1),\n",
        "    (\"I don’t have to mix it with wet food anymore.\", 1),\n",
        "    (\"Both my large and small dogs adore it.\", 1),\n",
        "    (\"Every meal feels like a celebration to them.\", 1),\n",
        "    (\"Picky eater no more—this food works!\", 1),\n",
        "    (\"No sniff-and-walk-away behavior anymore.\", 1),\n",
        "    (\"They even sit by the pantry door now.\", 1),\n",
        "    (\"Fastest I’ve ever seen them finish a meal.\", 1),\n",
        "    (\"She even whines with excitement when I open the bag.\", 1),\n",
        "\n",
        "    # Cluster 3: Coat, digestion, health improvements\n",
        "    (\"My dog's coat is shinier and softer after a month.\", 1),\n",
        "    (\"Fewer rashes and much less itching now.\", 1),\n",
        "    (\"My senior dog seems more energetic and mobile.\", 1),\n",
        "    (\"Stool is firmer and less smelly than before.\", 1),\n",
        "    (\"Helped with my bulldog’s constant scratching.\", 1),\n",
        "    (\"My Labrador's fur looks glossy and healthy.\", 1),\n",
        "    (\"No more digestive issues after meals.\", 1),\n",
        "    (\"My dog’s breath even smells a little better!\", 1),\n",
        "    (\"She’s visibly more playful and active.\", 1),\n",
        "    (\"Noticeable weight improvement—no more being underweight.\", 1),\n",
        "    (\"Helped my German Shepherd’s dry flaky skin.\", 1),\n",
        "    (\"No more emergency vet visits for stomach problems.\", 1),\n",
        "    (\"My husky’s fur looks magazine-ready.\", 1),\n",
        "    (\"Gained healthy weight without bloating.\", 1),\n",
        "    (\"Stopped my dachshund’s daily tummy aches.\", 1),\n",
        "    (\"Increased his energy level for hikes.\", 1),\n",
        "    (\"Soft, shiny fur after switching.\", 1),\n",
        "    (\"Poop consistency is way better now.\", 1),\n",
        "    (\"Allergies have been much more controlled.\", 1),\n",
        "    (\"Perfect choice for sensitive tummies.\", 1),\n",
        "\n",
        "    # Cluster 4: Price concerns (mixed)\n",
        "    (\"It’s a bit pricey for the amount you get.\", 0),\n",
        "    (\"Definitely not the cheapest, but the quality is worth it.\", 1),\n",
        "    (\"Wish there were larger bulk options for savings.\", 0),\n",
        "    (\"Great quality, but I can only afford it sometimes.\", 0),\n",
        "    (\"You pay more, but my dog's health improved a lot.\", 1),\n",
        "    (\"Could be more affordable for multi-dog households.\", 0),\n",
        "    (\"Worth the investment for sensitive dogs.\", 1),\n",
        "    (\"Not budget-friendly but no vet visits anymore.\", 1),\n",
        "    (\"I buy smaller bags to control spending.\", 0),\n",
        "    (\"Higher priced than competitors, but way better results.\", 1),\n",
        "    (\"A little out of my budget but great results.\", 1),\n",
        "    (\"If it were 20% cheaper, I'd give 5 stars.\", 0),\n",
        "    (\"Slightly overpriced compared to alternatives.\", 0),\n",
        "    (\"Too expensive for long-term use.\", 0),\n",
        "    (\"Not affordable if you have large dogs.\", 0),\n",
        "    (\"Expensive but seeing real health improvements.\", 1),\n",
        "    (\"Saving money on vet bills offsets the price.\", 1),\n",
        "    (\"Wish they had frequent buyer discounts.\", 0),\n",
        "    (\"Steep price but no regrets.\", 1),\n",
        "    (\"Feels overpriced for small bags.\", 0),\n",
        "\n",
        "    # Cluster 5: Negative experiences\n",
        "    (\"Made my dog throw up twice—had to stop using it.\", 0),\n",
        "    (\"Smelled weird and stale right out of the bag.\", 0),\n",
        "    (\"My dog wouldn't even touch it.\", 0),\n",
        "    (\"Caused really bad gas for three days.\", 0),\n",
        "    (\"He had an allergic reaction and started itching again.\", 0),\n",
        "    (\"Transitioning was tough—lots of upset stomachs.\", 0),\n",
        "    (\"Arrived late and the bag was ripped.\", 0),\n",
        "    (\"Caused constipation in my Chihuahua.\", 0),\n",
        "    (\"Too rich for my small dog’s digestion.\", 0),\n",
        "    (\"Had to switch brands after a bad reaction.\", 0),\n",
        "    (\"Puppy threw up multiple times after eating.\", 0),\n",
        "    (\"Older dog had diarrhea for a week.\", 0),\n",
        "    (\"Gave my dog really bad gas and bloating.\", 0),\n",
        "    (\"Opened the bag and it smelled off.\", 0),\n",
        "    (\"Not suitable for sensitive breeds like mine.\", 0),\n",
        "    (\"Dog became very lethargic after meals.\", 0),\n",
        "    (\"Packaging was ripped on arrival.\", 0),\n",
        "    (\"Moldy kibble found inside the bag.\", 0),\n",
        "    (\"Customer service was unhelpful after bad batch.\", 0),\n",
        "    (\"My dog developed a rash from it.\", 0),\n",
        "\n",
        "    #More Negative Reviews\n",
        "    (\"I absolutely hate this dog food.\", 0),\n",
        "    (\"This is the worst dog food I’ve ever bought.\", 0),\n",
        "    (\"My dog refused to even go near it.\", 0),\n",
        "    (\"Smells disgusting and made my whole house stink.\", 0),\n",
        "    (\"Total waste of money and terrible quality.\", 0),\n",
        "    (\"My dog spat it out immediately.\", 0),\n",
        "    (\"He got sick after just one bowl.\", 0),\n",
        "    (\"The smell made me gag.\", 0),\n",
        "    (\"My dog was lethargic after eating this.\", 0),\n",
        "    (\"This brand is awful—do not buy it.\", 0),\n",
        "    (\"Tastes must be horrible because my dog won't touch it.\", 0),\n",
        "    (\"Worse than cheap store brands.\", 0),\n",
        "    (\"Makes my dog’s breath absolutely unbearable.\", 0),\n",
        "    (\"Huge disappointment given the price.\", 0),\n",
        "    (\"Returned it immediately after opening.\", 0),\n",
        "    (\"The kibble was dry, dusty, and crumbled apart.\", 0),\n",
        "    (\"I had high hopes, but it made my dog vomit.\", 0),\n",
        "    (\"One sniff and my dog ran away.\", 0),\n",
        "    (\"My dog whined when I put it in his bowl.\", 0),\n",
        "    (\"Clearly upset his stomach—constant diarrhea.\", 0),\n",
        "    (\"Completely ruined my carpet after stomach issues.\", 0),\n",
        "    (\"Strong chemical smell right out of the bag.\", 0),\n",
        "    (\"Awful taste judging by my dog's reaction.\", 0),\n",
        "    (\"Zero nutritional benefit, only problems.\", 0),\n",
        "    (\"Worst pet product I’ve purchased this year.\", 0),\n",
        "    (\"Extremely disappointed with this brand.\", 0),\n",
        "    (\"Garbage food, not safe for dogs.\", 0),\n",
        "    (\"Took one bite and immediately vomited.\", 0),\n",
        "    (\"I can’t believe they sell this low-quality junk.\", 0),\n",
        "    (\"Horrible quality and terrible for sensitive dogs.\", 0),\n",
        "\n",
        "    #Additional 100 Positive Reviews\n",
        "    (\"My dog loves every bite of this food.\", 1),\n",
        "    (\"The smell reminds me of homemade chicken soup.\", 1),\n",
        "    (\"She dances around when I open the bag.\", 1),\n",
        "    (\"Finally found a food my picky eater loves.\", 1),\n",
        "    (\"My vet complimented my dog's improved coat.\", 1),\n",
        "    (\"Great product with real ingredients.\", 1),\n",
        "    (\"Easy to digest and no stomach issues.\", 1),\n",
        "    (\"Both my puppies and seniors adore it.\", 1),\n",
        "    (\"Shiny fur and bright eyes after switching.\", 1),\n",
        "    (\"Incredible difference in my dog's energy.\", 1),\n",
        "    (\"The bag stays fresh longer than other brands.\", 1),\n",
        "    (\"My dog waits excitedly by the bowl now.\", 1),\n",
        "    (\"Superb quality and my dog is thriving.\", 1),\n",
        "    (\"Every meal disappears in seconds.\", 1),\n",
        "    (\"Wonderful, natural smell out of the bag.\", 1),\n",
        "    (\"I noticed her itching stopped completely.\", 1),\n",
        "    (\"The ingredients are so clean and healthy.\", 1),\n",
        "    (\"Even my fussy dog eats it happily.\", 1),\n",
        "    (\"Great for dogs with sensitive stomachs.\", 1),\n",
        "    (\"My dog's breath smells better now.\", 1),\n",
        "    (\"Best dog food I've ever bought.\", 1),\n",
        "    (\"It has made a noticeable difference.\", 1),\n",
        "    (\"Finally something he eats without hesitation.\", 1),\n",
        "    (\"Paws down, his favorite food.\", 1),\n",
        "    (\"Worth every penny for a happy dog.\", 1),\n",
        "    (\"I’ve never seen him so excited at meal time.\", 1),\n",
        "    (\"His digestion improved dramatically.\", 1),\n",
        "    (\"Great value for the quality.\", 1),\n",
        "    (\"The natural smell reassures me it's fresh.\", 1),\n",
        "    (\"High-quality ingredients I can trust.\", 1),\n",
        "    (\"Smooth transition from his old food.\", 1),\n",
        "    (\"Less shedding and healthier coat.\", 1),\n",
        "    (\"Positive impact on both energy and mood.\", 1),\n",
        "    (\"Vet recommended and we agree.\", 1),\n",
        "    (\"Eats it right up without coaxing.\", 1),\n",
        "    (\"Gives my small dog just the right energy.\", 1),\n",
        "    (\"No fillers, just real food.\", 1),\n",
        "    (\"My dog never leaves leftovers anymore.\", 1),\n",
        "    (\"My dog no longer scratches constantly.\", 1),\n",
        "    (\"The pieces are the perfect size.\", 1),\n",
        "    (\"Even smells good to me!\", 1),\n",
        "    (\"My dog's skin is less flaky.\", 1),\n",
        "    (\"Affordable considering the quality.\", 1),\n",
        "    (\"Would highly recommend for fussy eaters.\", 1),\n",
        "    (\"No stomach problems whatsoever.\", 1),\n",
        "    (\"Happy, healthy, and energetic pup.\", 1),\n",
        "    (\"This brand is a game-changer.\", 1),\n",
        "    (\"I've already recommended it to friends.\", 1),\n",
        "    (\"Best decision I made for my dog.\", 1),\n",
        "    (\"Stays fresh for weeks in the bag.\", 1),\n",
        "    (\"She gets visibly excited when she hears the bag.\", 1),\n",
        "    (\"It smells and looks fresh and natural.\", 1),\n",
        "    (\"Perfect balance of nutrition and taste.\", 1),\n",
        "    (\"Her allergies improved noticeably.\", 1),\n",
        "    (\"Good for all dog sizes.\", 1),\n",
        "    (\"This food boosted his appetite.\", 1),\n",
        "    (\"Gave her a glossy, beautiful coat.\", 1),\n",
        "    (\"I love that it's grain-free.\", 1),\n",
        "    (\"Transitioned easily without any upset.\", 1),\n",
        "    (\"No more vomiting or loose stools.\", 1),\n",
        "    (\"Full of healthy, simple ingredients.\", 1),\n",
        "    (\"Even the vet noticed a difference.\", 1),\n",
        "    (\"My dog's coat gleams in the sunlight.\", 1),\n",
        "    (\"This food is worth every dollar.\", 1),\n",
        "    (\"Healthy choice my dog enjoys.\", 1),\n",
        "    (\"Quality food that truly delivers.\", 1),\n",
        "    (\"My dog gobbles it down every meal.\", 1),\n",
        "    (\"Every piece smells rich and appetizing.\", 1),\n",
        "    (\"We’ll be lifelong customers.\", 1),\n",
        "    (\"The food looks fresh and high-quality.\", 1),\n",
        "    (\"Her digestive issues cleared up fast.\", 1),\n",
        "    (\"A truly premium product.\", 1),\n",
        "    (\"No more allergy flare-ups.\", 1),\n",
        "    (\"Perfect texture and size for all breeds.\", 1),\n",
        "    (\"Amazing difference after just two weeks.\", 1),\n",
        "    (\"Dog is happier and more playful.\", 1),\n",
        "    (\"Good energy without weight gain.\", 1),\n",
        "    (\"A favorite even for our senior dog.\", 1),\n",
        "    (\"Highly digestible and nutritious.\", 1),\n",
        "    (\"Strong improvement in coat and skin health.\", 1),\n",
        "    (\"My dog can't get enough of it.\", 1),\n",
        "    (\"He waits patiently by his bowl every meal.\", 1),\n",
        "    (\"Much better than supermarket brands.\", 1),\n",
        "    (\"Premium dog food that delivers.\", 1),\n",
        "    (\"Excellent customer service from the company too.\", 1),\n",
        "    (\"Feeding time is the happiest time now.\", 1),\n",
        "    (\"The natural ingredients make a difference.\", 1),\n",
        "    (\"No allergic reactions whatsoever.\", 1),\n",
        "    (\"Healthy weight maintained effortlessly.\", 1),\n",
        "    (\"Dog's stools became firm and regular.\", 1),\n",
        "    (\"It smells great and fresh every time.\", 1),\n",
        "    (\"Best investment for my dog's health.\", 1),\n",
        "    (\"The kibble size is perfect.\", 1),\n",
        "    (\"All natural and no additives.\", 1),\n",
        "    (\"Smells so good you could mistake it for human food.\", 1),\n",
        "    (\"Took only a few days for her to love it.\", 1),\n",
        "    (\"Dog loves the crunch and flavor.\", 1),\n",
        "    (\"Gave my pup a healthy shiny coat.\", 1),\n",
        "\n",
        "    #Additional 100 Negative Reviews\n",
        "    (\"My dog hated the smell instantly.\", 0),\n",
        "    (\"She refused to even taste it.\", 0),\n",
        "    (\"He walked away from the bowl without eating.\", 0),\n",
        "    (\"Smells awful, like chemicals.\", 0),\n",
        "    (\"My dog sniffed it and looked sad.\", 0),\n",
        "    (\"Huge waste of money.\", 0),\n",
        "    (\"The smell filled my house in a bad way.\", 0),\n",
        "    (\"Made my dog's breath unbearable.\", 0),\n",
        "    (\"My puppy threw up after eating it.\", 0),\n",
        "    (\"Bag arrived ripped and stale.\", 0),\n",
        "    (\"Strong chemical odor upon opening.\", 0),\n",
        "    (\"Dog had diarrhea for days.\", 0),\n",
        "    (\"This food made him sick immediately.\", 0),\n",
        "    (\"My dog started scratching nonstop.\", 0),\n",
        "    (\"She had bad gas for days.\", 0),\n",
        "    (\"Tummy troubles after every meal.\", 0),\n",
        "    (\"Never buying this brand again.\", 0),\n",
        "    (\"My vet advised me to stop using it.\", 0),\n",
        "    (\"The food is way too oily.\", 0),\n",
        "    (\"Texture is weird and crumbly.\", 0),\n",
        "    (\"Pup had allergic reaction instantly.\", 0),\n",
        "    (\"Bowl was left untouched all day.\", 0),\n",
        "    (\"This brand disappointed me badly.\", 0),\n",
        "    (\"Caused severe vomiting in my senior dog.\", 0),\n",
        "    (\"Poop turned runny and uncontrollable.\", 0),\n",
        "    (\"Packaging was not properly sealed.\", 0),\n",
        "    (\"Poor quality control from this company.\", 0),\n",
        "    (\"My dog became lethargic after eating.\", 0),\n",
        "    (\"Vet bills increased after starting this food.\", 0),\n",
        "    (\"Food smells moldy.\", 0),\n",
        "    (\"Dog sneezed constantly after eating.\", 0),\n",
        "    (\"He lost weight from refusing meals.\", 0),\n",
        "    (\"The kibble was rock hard and crumbly.\", 0),\n",
        "    (\"No way to return the product easily.\", 0),\n",
        "    (\"Caused serious gas and bloating.\", 0),\n",
        "    (\"Ruined my dog's appetite completely.\", 0),\n",
        "    (\"Started developing skin rashes.\", 0),\n",
        "    (\"The dog food made my kitchen stink.\", 0),\n",
        "    (\"It made my dog restless and uncomfortable.\", 0),\n",
        "    (\"Fur started falling out after two weeks.\", 0),\n",
        "    (\"Tastes must be awful based on reactions.\", 0),\n",
        "    (\"He whined at the bowl instead of eating.\", 0),\n",
        "    (\"Overpriced for this terrible quality.\", 0),\n",
        "    (\"Regretting this purchase deeply.\", 0),\n",
        "    (\"Hardly any nutritional value at all.\", 0),\n",
        "    (\"This food caused more harm than good.\", 0),\n",
        "    (\"Disappointed in the ingredient list.\", 0),\n",
        "    (\"It gave my dog bloody diarrhea.\", 0),\n",
        "    (\"My dog trembled after eating it.\", 0),\n",
        "    (\"Immediate vomiting after first bowl.\", 0),\n",
        "    (\"Smells like spoiled meat.\", 0),\n",
        "    (\"Would give zero stars if I could.\", 0),\n",
        "    (\"Not safe for sensitive dogs.\", 0),\n",
        "    (\"Dog refused second serving after first bite.\", 0),\n",
        "    (\"Horrible customer service response.\", 0),\n",
        "    (\"Puppy lost interest after one day.\", 0),\n",
        "    (\"Kibble consistency was weirdly oily.\", 0),\n",
        "    (\"My dog only eats when extremely hungry now.\", 0),\n",
        "    (\"Clearly low-quality ingredients.\", 0),\n",
        "    (\"Choking hazard due to sharp pieces.\", 0),\n",
        "    (\"This product should be recalled.\", 0),\n",
        "    (\"My dog's poop turned grayish after eating.\", 0),\n",
        "    (\"Product gave off a strange sour smell.\", 0),\n",
        "    (\"Upset my dog's stomach every time.\", 0),\n",
        "    (\"Gave my dog severe bloating issues.\", 0),\n",
        "    (\"Bag was half crumbs when it arrived.\", 0),\n",
        "    (\"Would not recommend to anyone.\", 0),\n",
        "    (\"Had to transition back to old food.\", 0),\n",
        "    (\"Pricey but terrible quality.\", 0),\n",
        "    (\"Felt greasy and old when touched.\", 0),\n",
        "    (\"Dog yelped after eating — maybe tummy ache.\", 0),\n",
        "    (\"Smells stale even though freshly opened.\", 0),\n",
        "    (\"Dog food full of powder and dust.\", 0),\n",
        "    (\"Extremely disappointed and angry.\", 0),\n",
        "    (\"Dog wouldn't even lick it.\", 0),\n",
        "    (\"My small dog choked on a piece.\", 0),\n",
        "    (\"Ruined my carpet after diarrhea accidents.\", 0),\n",
        "    (\"Dog developed sores around his mouth.\", 0),\n",
        "    (\"Awful reaction after only a few days.\", 0),\n",
        "    (\"Dog growled at the bowl — never seen before.\", 0),\n",
        "    (\"Extremely poor quality for the cost.\", 0),\n",
        "    (\"Smelled rotten upon arrival.\", 0),\n",
        "    (\"Packaging not airtight, stale food inside.\", 0),\n",
        "    (\"Not suitable for large breed dogs.\", 0),\n",
        "    (\"Full of filler ingredients.\", 0),\n",
        "    (\"Dog became extremely itchy.\", 0),\n",
        "    (\"Company refused to refund.\", 0),\n",
        "    (\"Bag had small holes — insects inside.\", 0),\n",
        "    (\"Unpleasant texture and smell.\", 0),\n",
        "    (\"Dog had allergic swelling after eating.\", 0),\n",
        "    (\"Absolutely disgusting food.\", 0),\n",
        "    (\"Won't risk my dog's health again.\", 0),\n",
        "    (\"Vet said ingredients were questionable.\", 0),\n",
        "    (\"Dog had seizures after trying it.\", 0),\n",
        "    (\"Feels cheap and poorly manufactured.\", 0),\n",
        "    (\"Massive disappointment compared to old brand.\", 0),\n",
        "    (\"Gave dog hives and skin welts.\", 0),\n",
        "    (\"Caused bloody stools in my dog.\", 0)\n",
        "]\n",
        "\n",
        "dog_food_reviews = dog_food_reviews1 + dog_food_reviews2\n",
        "\n",
        "print(\"Amount of Data: \" + str(len(dog_food_reviews)))"
      ]
    },
    {
      "cell_type": "markdown",
      "metadata": {
        "id": "2wN69sWNahv4"
      },
      "source": [
        "# Data Pre-Processing\n",
        "\n",
        "We split the dataset randomly so that we have 70% as the training data, 20% as the validation data, and 10% as the test data. We are using the \"distilbert-base-uncased\" transformer model for ease of use and efficiency."
      ]
    },
    {
      "cell_type": "code",
      "execution_count": null,
      "metadata": {
        "colab": {
          "base_uri": "https://localhost:8080/",
          "height": 368,
          "referenced_widgets": [
            "a1149e71442f47f3a1059c8e31d6f97e",
            "a299b857fbaa4e73ad6eb8e2b58458b7",
            "94447ba92a5e45a39073ea30ec387952",
            "91d14287e86141c5a9cbbfcd6f96b962",
            "c272499d495747cdadc25805ad27fc3f",
            "768237c04572418995157c57d8cf841e",
            "07deffdc1bd74e39838ed5514d9ddff0",
            "6cd207b85ee447cfbed2ca4dcf954580",
            "af8486d90c904043957848aa1848db2f",
            "2bad6f744de5406fa316901ec754fc3e",
            "b8017d3642cc42688ccce4158d498827",
            "7ba6ca7a693c4201ad2709fe72e85591",
            "51167391834f48b2a218bdf5891409e4",
            "0de93500742f468aae595558c29aeb7c",
            "d95f93a720374887a037e7e889234d58",
            "fd7ac347c5da46b9b5a7f38d713ef1af",
            "33a21849ae864b1d87dbd1563831c4cb",
            "41521d720413462985390c0db98e57bf",
            "eedcf090d59b488bb24d5a0972628c81",
            "0c20ceddba39468786196a6b34be0f37",
            "91b8dc28882149c7ad48955178695424",
            "9c8dff69388244e395b63bc0c97cbf73",
            "6af0ab8659df4572881118b89e6481b6",
            "d91722a399de4bc186f618029068f3c4",
            "d92e3fe0628540aebc9ed1dfaf82961a",
            "feb1edfe27b44043866c20f0683442f6",
            "3a1eaf2a1463482c9de4d91f557cf757",
            "86dbb91cf30b44df97a3ddb30515f70d",
            "fcf66c66f78b40249180d1c5ee1e016f",
            "58a6d6e00c0d45d99173fc772d3dc51e",
            "079b2d296410494482727b3514ec5a30",
            "a527f5c818a04087a1e34e20333fa7c3",
            "c24aa73b7ef9485da8a4ace86da806d9",
            "fcda4d2ca81f42169bd5a9d04f931b56",
            "3926ced647994740948f5a9481066bdd",
            "a047d4c8a5fb4ba9874f3a8b7f07035e",
            "2950ffb16b5e4a74842070007f7e2c8a",
            "1938316398504124883366d53dca0887",
            "4201de3824ab42a9b222ca06156b2085",
            "25496e74cd684b56b50a4388e32f3235",
            "e11ab1f896bf4d93ac70b546c3faa3a6",
            "2262055995e5434cacb617d7b86f207d",
            "07e30e55c6094b11972e5945391712cb",
            "c5f96caf790340be8e3dd49d31200342",
            "1f922a55790a4fcc8acc622a6a889b5b",
            "b2a84315334748b3a5ecf11a2c9fd78a",
            "9a912b3018ad481f8321cd7555835555",
            "d26fd8ef1f7040fc87d2c4c5f4188bf4",
            "d709533809bf4e2bb652bfd4f6d70874",
            "4e7980d139c8411a8f7a726253478467",
            "34b9e85522d246b38ceb880b359af2b7",
            "836b4bb0d424429ba7ae92c4b840e230",
            "99fa2569055c48d8a2f6278ab1e5eb43",
            "9aa02593311a4090804f898b0609a094",
            "06667cc8cee945a7a9957dbb3402c3b3",
            "7e013ea683544860be5e7e437c72f242",
            "1e420844c51c445daf9be06b6c7a5c47",
            "278ab3cc6e9e451581f173ed976f0679",
            "21b764289a7c40ccbc2f5c5e7ac1037f",
            "aab29ce0aa3b483dbcbd9f4286bc7bad",
            "0bae60a034d84d03a4c81ede2849b237",
            "7083d5e2ffb840ff8e61e7554e548f58",
            "7c99a71862d04e1fb76df8ed09c636fc",
            "651d463fd61e452dab14e5c512a6b130",
            "d94b7c3956984a3092eae6b8b47afa52",
            "52ccd18ffa174d3f919f399a313d6ed9",
            "045c120f6d6043799446cb08ccfe81fc",
            "284ce2c1b1524167ac2d7014da68b9a1",
            "19dc53f6d2ea4008b1f792472c7aba1b",
            "890e5da5389e4f3eae1e022f52fce6c8",
            "cd08957e9cda4e0ca278afde7ac0fd99",
            "a0d7ec26230d4a00b33a1fdd4828ab3d",
            "f07485d9975e4b8694d36a56fb62a5b0",
            "8604b0c8d73c426c977a764097d17034",
            "4107c31ae008464f99837d0d2e1142c8",
            "8b55f3bae25f40eaa2f8b3f136dd4f5b",
            "8df2ec55be4f4368b11aeb3a496cc4d1"
          ]
        },
        "collapsed": true,
        "id": "0FJNlyCrcVZI",
        "outputId": "b1a6c022-1d74-46b7-ebba-48d84f66f1b9"
      },
      "outputs": [
        {
          "output_type": "stream",
          "name": "stderr",
          "text": [
            "/usr/local/lib/python3.11/dist-packages/huggingface_hub/utils/_auth.py:94: UserWarning: \n",
            "The secret `HF_TOKEN` does not exist in your Colab secrets.\n",
            "To authenticate with the Hugging Face Hub, create a token in your settings tab (https://huggingface.co/settings/tokens), set it as secret in your Google Colab and restart your session.\n",
            "You will be able to reuse this secret in all of your notebooks.\n",
            "Please note that authentication is recommended but still optional to access public models or datasets.\n",
            "  warnings.warn(\n"
          ]
        },
        {
          "output_type": "display_data",
          "data": {
            "text/plain": [
              "tokenizer_config.json:   0%|          | 0.00/48.0 [00:00<?, ?B/s]"
            ],
            "application/vnd.jupyter.widget-view+json": {
              "version_major": 2,
              "version_minor": 0,
              "model_id": "a1149e71442f47f3a1059c8e31d6f97e"
            }
          },
          "metadata": {}
        },
        {
          "output_type": "display_data",
          "data": {
            "text/plain": [
              "config.json:   0%|          | 0.00/483 [00:00<?, ?B/s]"
            ],
            "application/vnd.jupyter.widget-view+json": {
              "version_major": 2,
              "version_minor": 0,
              "model_id": "7ba6ca7a693c4201ad2709fe72e85591"
            }
          },
          "metadata": {}
        },
        {
          "output_type": "display_data",
          "data": {
            "text/plain": [
              "vocab.txt:   0%|          | 0.00/232k [00:00<?, ?B/s]"
            ],
            "application/vnd.jupyter.widget-view+json": {
              "version_major": 2,
              "version_minor": 0,
              "model_id": "6af0ab8659df4572881118b89e6481b6"
            }
          },
          "metadata": {}
        },
        {
          "output_type": "display_data",
          "data": {
            "text/plain": [
              "tokenizer.json:   0%|          | 0.00/466k [00:00<?, ?B/s]"
            ],
            "application/vnd.jupyter.widget-view+json": {
              "version_major": 2,
              "version_minor": 0,
              "model_id": "fcda4d2ca81f42169bd5a9d04f931b56"
            }
          },
          "metadata": {}
        },
        {
          "output_type": "display_data",
          "data": {
            "text/plain": [
              "Map:   0%|          | 0/3303 [00:00<?, ? examples/s]"
            ],
            "application/vnd.jupyter.widget-view+json": {
              "version_major": 2,
              "version_minor": 0,
              "model_id": "1f922a55790a4fcc8acc622a6a889b5b"
            }
          },
          "metadata": {}
        },
        {
          "output_type": "display_data",
          "data": {
            "text/plain": [
              "Map:   0%|          | 0/944 [00:00<?, ? examples/s]"
            ],
            "application/vnd.jupyter.widget-view+json": {
              "version_major": 2,
              "version_minor": 0,
              "model_id": "7e013ea683544860be5e7e437c72f242"
            }
          },
          "metadata": {}
        },
        {
          "output_type": "display_data",
          "data": {
            "text/plain": [
              "Map:   0%|          | 0/472 [00:00<?, ? examples/s]"
            ],
            "application/vnd.jupyter.widget-view+json": {
              "version_major": 2,
              "version_minor": 0,
              "model_id": "045c120f6d6043799446cb08ccfe81fc"
            }
          },
          "metadata": {}
        }
      ],
      "source": [
        "# Create HuggingFace Dataset\n",
        "data = {\n",
        "    \"text\": [review for review, label in dog_food_reviews],\n",
        "    \"label\": [label for review, label in dog_food_reviews]\n",
        "}\n",
        "full_dataset = Dataset.from_dict(data)\n",
        "\n",
        "# First split: 10% test set\n",
        "split1 = full_dataset.train_test_split(test_size=0.1, seed=42)\n",
        "temp_dataset = split1[\"train\"]\n",
        "test_dataset = split1[\"test\"]\n",
        "\n",
        "# Second split: 20% validation from remaining 90%\n",
        "split2 = temp_dataset.train_test_split(test_size=2/9, seed=42)\n",
        "train_dataset = split2[\"train\"]\n",
        "val_dataset = split2[\"test\"]\n",
        "\n",
        "# Combine into a DatasetDict\n",
        "dataset = DatasetDict({\n",
        "    \"train\": train_dataset,\n",
        "    \"validation\": val_dataset,\n",
        "    \"test\": test_dataset\n",
        "})\n",
        "\n",
        "\n",
        "# Load tokenizer\n",
        "model_checkpoint = \"distilbert-base-uncased\"\n",
        "tokenizer = AutoTokenizer.from_pretrained(model_checkpoint)\n",
        "\n",
        "# Tokenization function\n",
        "def tokenize_function(example):\n",
        "    return tokenizer(example[\"text\"], padding=\"max_length\", truncation=True)\n",
        "\n",
        "# Apply tokenization to all splits\n",
        "tokenized_datasets = dataset.map(tokenize_function, batched=True)\n"
      ]
    },
    {
      "cell_type": "markdown",
      "metadata": {
        "id": "nKn_AjvGceer"
      },
      "source": [
        "# Model Creation\n",
        "\n",
        "We are using the \"distilbert-base-uncased\" pretrained transformer model, that understands English. We must fine-tune this model to be able to properly evaluate the sentiment of a dog food review. We want to see whether fine-tuning this model can improve the review classification accuracy."
      ]
    },
    {
      "cell_type": "code",
      "execution_count": null,
      "metadata": {
        "colab": {
          "base_uri": "https://localhost:8080/",
          "height": 140,
          "referenced_widgets": [
            "33570eec18964a57a37ab07cc77688b3",
            "09efbd2bad4f4b0082117913fe839347",
            "3e377b2d41af450b82f50432b2cce0cd",
            "199d7a930d1d426b9aca7ebfa12b6e5b",
            "be2f8223fdd248539971a05d99112231",
            "5eb7a59b727e49d793b4569aa36b56d8",
            "19c65b82e84c47158e95ba90d069a262",
            "a90e1c1eb4d64d3ea454215d882e7ba9",
            "fe5d4e2e4b1a436bb256ddd1c49c4e36",
            "628b04b22a684115ba0ad42ad8a51452",
            "bff829f4d3204a68b5ac44babd99bd46"
          ]
        },
        "collapsed": true,
        "id": "OWxerEXDcie6",
        "outputId": "6ae863b4-b934-4fac-d471-f16b50694176"
      },
      "outputs": [
        {
          "output_type": "stream",
          "name": "stderr",
          "text": [
            "Xet Storage is enabled for this repo, but the 'hf_xet' package is not installed. Falling back to regular HTTP download. For better performance, install the package with: `pip install huggingface_hub[hf_xet]` or `pip install hf_xet`\n",
            "WARNING:huggingface_hub.file_download:Xet Storage is enabled for this repo, but the 'hf_xet' package is not installed. Falling back to regular HTTP download. For better performance, install the package with: `pip install huggingface_hub[hf_xet]` or `pip install hf_xet`\n"
          ]
        },
        {
          "output_type": "display_data",
          "data": {
            "text/plain": [
              "model.safetensors:   0%|          | 0.00/268M [00:00<?, ?B/s]"
            ],
            "application/vnd.jupyter.widget-view+json": {
              "version_major": 2,
              "version_minor": 0,
              "model_id": "33570eec18964a57a37ab07cc77688b3"
            }
          },
          "metadata": {}
        },
        {
          "output_type": "stream",
          "name": "stderr",
          "text": [
            "Some weights of DistilBertForSequenceClassification were not initialized from the model checkpoint at distilbert-base-uncased and are newly initialized: ['classifier.bias', 'classifier.weight', 'pre_classifier.bias', 'pre_classifier.weight']\n",
            "You should probably TRAIN this model on a down-stream task to be able to use it for predictions and inference.\n"
          ]
        }
      ],
      "source": [
        "# Load model\n",
        "model = AutoModelForSequenceClassification.from_pretrained(\n",
        "    model_checkpoint,\n",
        "    num_labels=2,\n",
        "    id2label={0: \"negative\", 1: \"positive\"},\n",
        "    label2id={\"negative\": 0, \"positive\": 1}\n",
        ")\n",
        "\n",
        "# Define metrics for evaluation\n",
        "def compute_metrics(eval_pred):\n",
        "    logits, labels = eval_pred\n",
        "    predictions = np.argmax(logits, axis=-1)\n",
        "    precision, recall, f1, _ = precision_recall_fscore_support(labels, predictions, average=\"binary\")\n",
        "    acc = accuracy_score(labels, predictions)\n",
        "    return {\"accuracy\": acc, \"f1\": f1, \"precision\": precision, \"recall\": recall}"
      ]
    },
    {
      "cell_type": "markdown",
      "metadata": {
        "id": "uSOHg8YItNb1"
      },
      "source": [
        "# Model Training\n",
        "\n"
      ]
    },
    {
      "cell_type": "code",
      "execution_count": null,
      "metadata": {
        "colab": {
          "base_uri": "https://localhost:8080/",
          "height": 563
        },
        "id": "DgdhQ_RsqO2R",
        "outputId": "bbe84f32-ce3a-41a5-9850-1cb673f2733c"
      },
      "outputs": [
        {
          "output_type": "stream",
          "name": "stderr",
          "text": [
            "Using the `WANDB_DISABLED` environment variable is deprecated and will be removed in v5. Use the --report_to flag to control the integrations used for logging result (for instance --report_to none).\n"
          ]
        },
        {
          "output_type": "stream",
          "name": "stdout",
          "text": [
            "\n",
            "🚀 Training Epoch 1/5\n"
          ]
        },
        {
          "output_type": "display_data",
          "data": {
            "text/plain": [
              "<IPython.core.display.HTML object>"
            ],
            "text/html": [
              "\n",
              "    <div>\n",
              "      \n",
              "      <progress value='413' max='413' style='width:300px; height:20px; vertical-align: middle;'></progress>\n",
              "      [413/413 02:27, Epoch 1/1]\n",
              "    </div>\n",
              "    <table border=\"1\" class=\"dataframe\">\n",
              "  <thead>\n",
              " <tr style=\"text-align: left;\">\n",
              "      <th>Step</th>\n",
              "      <th>Training Loss</th>\n",
              "    </tr>\n",
              "  </thead>\n",
              "  <tbody>\n",
              "  </tbody>\n",
              "</table><p>"
            ]
          },
          "metadata": {}
        },
        {
          "output_type": "display_data",
          "data": {
            "text/plain": [
              "<IPython.core.display.HTML object>"
            ],
            "text/html": [
              "\n",
              "    <div>\n",
              "      \n",
              "      <progress value='590' max='118' style='width:300px; height:20px; vertical-align: middle;'></progress>\n",
              "      [118/118 11:14]\n",
              "    </div>\n",
              "    "
            ]
          },
          "metadata": {}
        },
        {
          "output_type": "stream",
          "name": "stdout",
          "text": [
            "\n",
            "🚀 Training Epoch 2/5\n"
          ]
        },
        {
          "output_type": "display_data",
          "data": {
            "text/plain": [
              "<IPython.core.display.HTML object>"
            ],
            "text/html": [
              "\n",
              "    <div>\n",
              "      \n",
              "      <progress value='413' max='413' style='width:300px; height:20px; vertical-align: middle;'></progress>\n",
              "      [413/413 02:31, Epoch 1/1]\n",
              "    </div>\n",
              "    <table border=\"1\" class=\"dataframe\">\n",
              "  <thead>\n",
              " <tr style=\"text-align: left;\">\n",
              "      <th>Step</th>\n",
              "      <th>Training Loss</th>\n",
              "    </tr>\n",
              "  </thead>\n",
              "  <tbody>\n",
              "  </tbody>\n",
              "</table><p>"
            ]
          },
          "metadata": {}
        },
        {
          "output_type": "stream",
          "name": "stdout",
          "text": [
            "\n",
            "🚀 Training Epoch 3/5\n"
          ]
        },
        {
          "output_type": "display_data",
          "data": {
            "text/plain": [
              "<IPython.core.display.HTML object>"
            ],
            "text/html": [
              "\n",
              "    <div>\n",
              "      \n",
              "      <progress value='413' max='413' style='width:300px; height:20px; vertical-align: middle;'></progress>\n",
              "      [413/413 02:30, Epoch 1/1]\n",
              "    </div>\n",
              "    <table border=\"1\" class=\"dataframe\">\n",
              "  <thead>\n",
              " <tr style=\"text-align: left;\">\n",
              "      <th>Step</th>\n",
              "      <th>Training Loss</th>\n",
              "    </tr>\n",
              "  </thead>\n",
              "  <tbody>\n",
              "  </tbody>\n",
              "</table><p>"
            ]
          },
          "metadata": {}
        },
        {
          "output_type": "stream",
          "name": "stdout",
          "text": [
            "\n",
            "🚀 Training Epoch 4/5\n"
          ]
        },
        {
          "output_type": "display_data",
          "data": {
            "text/plain": [
              "<IPython.core.display.HTML object>"
            ],
            "text/html": [
              "\n",
              "    <div>\n",
              "      \n",
              "      <progress value='413' max='413' style='width:300px; height:20px; vertical-align: middle;'></progress>\n",
              "      [413/413 02:31, Epoch 1/1]\n",
              "    </div>\n",
              "    <table border=\"1\" class=\"dataframe\">\n",
              "  <thead>\n",
              " <tr style=\"text-align: left;\">\n",
              "      <th>Step</th>\n",
              "      <th>Training Loss</th>\n",
              "    </tr>\n",
              "  </thead>\n",
              "  <tbody>\n",
              "  </tbody>\n",
              "</table><p>"
            ]
          },
          "metadata": {}
        },
        {
          "output_type": "stream",
          "name": "stdout",
          "text": [
            "\n",
            "🚀 Training Epoch 5/5\n"
          ]
        },
        {
          "output_type": "display_data",
          "data": {
            "text/plain": [
              "<IPython.core.display.HTML object>"
            ],
            "text/html": [
              "\n",
              "    <div>\n",
              "      \n",
              "      <progress value='413' max='413' style='width:300px; height:20px; vertical-align: middle;'></progress>\n",
              "      [413/413 02:30, Epoch 1/1]\n",
              "    </div>\n",
              "    <table border=\"1\" class=\"dataframe\">\n",
              "  <thead>\n",
              " <tr style=\"text-align: left;\">\n",
              "      <th>Step</th>\n",
              "      <th>Training Loss</th>\n",
              "    </tr>\n",
              "  </thead>\n",
              "  <tbody>\n",
              "  </tbody>\n",
              "</table><p>"
            ]
          },
          "metadata": {}
        },
        {
          "output_type": "stream",
          "name": "stdout",
          "text": [
            "Model training complete. Saved to ./dog_food_sentiment_analysis_model\n"
          ]
        }
      ],
      "source": [
        "# Set training arguments\n",
        "training_args = TrainingArguments(\n",
        "    output_dir=\"./results\",\n",
        "    learning_rate=1e-5,\n",
        "    per_device_train_batch_size=8,\n",
        "    per_device_eval_batch_size=8,\n",
        "    num_train_epochs=1,  # We'll control manually\n",
        "    weight_decay=0.01,\n",
        "    save_strategy=\"no\",\n",
        ")\n",
        "\n",
        "# Initialize Trainer with validation set\n",
        "trainer = Trainer(\n",
        "    model=model,\n",
        "    args=training_args,\n",
        "    train_dataset=tokenized_datasets[\"train\"],\n",
        "    eval_dataset=tokenized_datasets[\"validation\"],  # Use validation set during training\n",
        "    compute_metrics=compute_metrics,\n",
        ")\n",
        "\n",
        "# Track losses and metrics\n",
        "epoch_numbers = []\n",
        "train_losses = []\n",
        "val_losses = []\n",
        "val_accuracies = []\n",
        "val_precisions = []\n",
        "val_recalls = []\n",
        "val_f1s = []\n",
        "\n",
        "# Manual training and evaluation loop\n",
        "total_epochs = 5\n",
        "for epoch in range(total_epochs):\n",
        "    print(f\"\\n🚀 Training Epoch {epoch + 1}/{total_epochs}\")\n",
        "    trainer.train()\n",
        "    metrics = trainer.evaluate()\n",
        "\n",
        "    # Record metrics\n",
        "    val_losses.append(metrics.get(\"eval_loss\", 0))\n",
        "    val_accuracies.append(metrics.get(\"eval_accuracy\", 0))\n",
        "    val_precisions.append(metrics.get(\"eval_precision\", 0))\n",
        "    val_recalls.append(metrics.get(\"eval_recall\", 0))\n",
        "    val_f1s.append(metrics.get(\"eval_f1\", 0))\n",
        "    epoch_numbers.append(epoch + 1)\n",
        "\n",
        "# Save model and tokenizer\n",
        "trainer.save_model(\"./dog_food_sentiment_analysis_model\")\n",
        "tokenizer.save_pretrained(\"./dog_food_sentiment_analysis_model\")\n",
        "\n",
        "print(\"Model training complete. Saved to ./dog_food_sentiment_analysis_model\")"
      ]
    },
    {
      "cell_type": "markdown",
      "source": [
        "# Check Test Metrics"
      ],
      "metadata": {
        "id": "sR5fwRiuqnsn"
      }
    },
    {
      "cell_type": "code",
      "source": [
        "test_metrics = trainer.evaluate(eval_dataset=tokenized_datasets[\"test\"])\n",
        "\n",
        "test_accuracy = test_metrics[\"eval_accuracy\"]\n",
        "test_precision = test_metrics[\"eval_precision\"]\n",
        "test_recall = test_metrics[\"eval_recall\"]\n",
        "test_f1 = test_metrics[\"eval_f1\"]\n",
        "test_loss = test_metrics.get(\"eval_loss\", None)\n",
        "\n",
        "print(\"\\nFinal Test Set Evaluation:\")\n",
        "for key, value in test_metrics.items():\n",
        "    print(f\"{key}: {value:.4f}\")"
      ],
      "metadata": {
        "colab": {
          "base_uri": "https://localhost:8080/",
          "height": 233
        },
        "id": "zhTx43lzqplI",
        "outputId": "d532f2da-d6a0-496a-810c-019587aeb4a5"
      },
      "execution_count": null,
      "outputs": [
        {
          "output_type": "display_data",
          "data": {
            "text/plain": [
              "<IPython.core.display.HTML object>"
            ],
            "text/html": [
              "\n",
              "    <div>\n",
              "      \n",
              "      <progress value='708' max='118' style='width:300px; height:20px; vertical-align: middle;'></progress>\n",
              "      [118/118 13:33]\n",
              "    </div>\n",
              "    "
            ]
          },
          "metadata": {}
        },
        {
          "output_type": "stream",
          "name": "stdout",
          "text": [
            "\n",
            "Final Test Set Evaluation:\n",
            "eval_loss: 0.2195\n",
            "eval_accuracy: 0.9513\n",
            "eval_f1: 0.9690\n",
            "eval_precision: 0.9836\n",
            "eval_recall: 0.9549\n",
            "eval_runtime: 7.0493\n",
            "eval_samples_per_second: 66.9570\n",
            "eval_steps_per_second: 8.3700\n",
            "epoch: 1.0000\n"
          ]
        }
      ]
    },
    {
      "cell_type": "markdown",
      "metadata": {
        "id": "13tB-WmZuwpd"
      },
      "source": [
        "# Plotting Performance\n",
        "\n",
        "We want to plot all performance metrics over the epochs."
      ]
    },
    {
      "cell_type": "code",
      "execution_count": null,
      "metadata": {
        "colab": {
          "base_uri": "https://localhost:8080/",
          "height": 1000
        },
        "id": "N2SBuMAvt3oj",
        "outputId": "0d2b56a2-8695-4b40-a1a0-3b18a24cfdf9"
      },
      "outputs": [
        {
          "output_type": "display_data",
          "data": {
            "text/plain": [
              "<Figure size 1200x800 with 1 Axes>"
            ],
            "image/png": "[encoded data removed]"
          },
          "metadata": {}
        },
        {
          "output_type": "display_data",
          "data": {
            "text/plain": [
              "<IPython.core.display.HTML object>"
            ],
            "text/html": [
              "\n",
              "    <div>\n",
              "      \n",
              "      <progress value='767' max='118' style='width:300px; height:20px; vertical-align: middle;'></progress>\n",
              "      [118/118 14:06]\n",
              "    </div>\n",
              "    "
            ]
          },
          "metadata": {}
        },
        {
          "output_type": "display_data",
          "data": {
            "text/plain": [
              "<Figure size 800x600 with 1 Axes>"
            ],
            "image/png": "[encoded data removed]"
          },
          "metadata": {}
        }
      ],
      "source": [
        "# Line Plot of Validation Metrics over Epochs\n",
        "plt.figure(figsize=(12, 8))\n",
        "\n",
        "plt.plot(epoch_numbers, val_losses, label=\"Validation Loss\")\n",
        "plt.plot(epoch_numbers, val_accuracies, label=\"Accuracy\")\n",
        "plt.plot(epoch_numbers, val_precisions, label=\"Precision\")\n",
        "plt.plot(epoch_numbers, val_recalls, label=\"Recall\")\n",
        "plt.plot(epoch_numbers, val_f1s, label=\"F1 Score\")\n",
        "\n",
        "plt.xlabel(\"Epoch\")\n",
        "plt.ylabel(\"Metric Value\")\n",
        "plt.title(\"Model Performance on Validation Set Over Epochs\")\n",
        "plt.legend()\n",
        "plt.grid()\n",
        "plt.show()\n",
        "\n",
        "# Bar Plot of Final Test Set Metrics\n",
        "test_metrics = trainer.evaluate(eval_dataset=tokenized_datasets[\"test\"])\n",
        "\n",
        "# Extract individual metrics\n",
        "test_accuracy = test_metrics[\"eval_accuracy\"]\n",
        "test_precision = test_metrics[\"eval_precision\"]\n",
        "test_recall = test_metrics[\"eval_recall\"]\n",
        "test_f1 = test_metrics[\"eval_f1\"]\n",
        "test_loss = test_metrics.get(\"eval_loss\", None)\n",
        "\n",
        "# Prepare values and labels\n",
        "test_metric_values = [test_loss, test_accuracy, test_precision, test_recall, test_f1]\n",
        "test_metric_labels = [\"Loss\", \"Accuracy\", \"Precision\", \"Recall\", \"F1 Score\"]\n",
        "\n",
        "# Plot bar chart\n",
        "plt.figure(figsize=(8, 6))\n",
        "bars = plt.bar(test_metric_labels, test_metric_values, color='teal')\n",
        "plt.title(\"Final Test Set Metrics\")\n",
        "plt.ylim(0, 1)\n",
        "plt.ylabel(\"Metric Value\")\n",
        "plt.grid(axis='y')\n",
        "\n",
        "# Annotate bars with values\n",
        "for bar, value in zip(bars, test_metric_values):\n",
        "    if value is not None:\n",
        "        plt.text(bar.get_x() + bar.get_width() / 2, value + 0.02, f\"{value:.2f}\",\n",
        "                 ha='center', va='bottom', fontsize=10, fontweight='bold')\n",
        "\n",
        "plt.show()"
      ]
    },
    {
      "cell_type": "markdown",
      "metadata": {
        "id": "ruKvXBL5y7v5"
      },
      "source": [
        "# As we can see from this graph, all scores of accuracy, precision, recall, and f1 score are already very high beginning from epoch 1. This is because the distilBERT model is already very good at simple sentiment classification tasks.\n",
        "\n",
        "# Test accuracy is very high at 95%.\n",
        "\n",
        "\n"
      ]
    }
  ],
  "metadata": {
    "accelerator": "GPU",
    "colab": {
      "gpuType": "T4",
      "provenance": []
    },
    "kernelspec": {
      "display_name": "Python 3",
      "name": "python3"
    },
    "language_info": {
      "name": "python"
    }
  },
  "nbformat": 4,
  "nbformat_minor": 0
}